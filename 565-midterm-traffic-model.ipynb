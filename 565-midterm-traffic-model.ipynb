{
 "cells": [
  {
   "cell_type": "code",
   "execution_count": 1,
   "metadata": {},
   "outputs": [],
   "source": [
    "# Need to implement DT, RF, ADA, XG\n",
    "import pandas as pd\n",
    "import numpy as np\n",
    "from matplotlib import pyplot as plt\n",
    "import seaborn as sns\n",
    "import sklearn\n",
    "from sklearn.tree import DecisionTreeRegressor    # Decision Tree\n",
    "from sklearn.ensemble import RandomForestRegressor # RF\n",
    "from sklearn.ensemble import AdaBoostRegressor #ADABoost\n",
    "from xgboost import XGBRegressor # XGBoost\n",
    "\n",
    "# Package for data partitioning\n",
    "from sklearn.model_selection import train_test_split\n",
    "\n",
    "# Package for generating confusion matrix\n",
    "from sklearn import metrics\n",
    "from sklearn.metrics import confusion_matrix, ConfusionMatrixDisplay\n",
    "from sklearn.metrics import r2_score\n",
    "from sklearn.metrics import mean_squared_error\n",
    "\n",
    "# Package for generating classification report\n",
    "from sklearn.metrics import classification_report\n",
    "\n",
    "# Import packages to implement Stratified K-fold CV\n",
    "from sklearn.model_selection import KFold \n",
    "from sklearn.model_selection import StratifiedKFold\n",
    "\n",
    "# Import Package to implement GridSearch CV\n",
    "from sklearn.model_selection import GridSearchCV\n",
    "\n",
    "# Importing package for Randomized Search CV\n",
    "from sklearn.model_selection import RandomizedSearchCV\n",
    "\n",
    "import time\n",
    "from datetime import datetime\n",
    "from pprint import pprint\n",
    "import pickle \n",
    "\n",
    "import warnings\n",
    "warnings.filterwarnings('ignore')"
   ]
  },
  {
   "cell_type": "code",
   "execution_count": 2,
   "metadata": {},
   "outputs": [
    {
     "name": "stdout",
     "output_type": "stream",
     "text": [
      "<class 'pandas.core.frame.DataFrame'>\n",
      "RangeIndex: 48204 entries, 0 to 48203\n",
      "Data columns (total 9 columns):\n",
      " #   Column               Non-Null Count  Dtype  \n",
      "---  ------               --------------  -----  \n",
      " 0   holiday              61 non-null     object \n",
      " 1   temp                 48204 non-null  float64\n",
      " 2   rain_1h              48204 non-null  float64\n",
      " 3   snow_1h              48204 non-null  float64\n",
      " 4   clouds_all           48204 non-null  int64  \n",
      " 5   weather_main         48204 non-null  object \n",
      " 6   weather_description  48204 non-null  object \n",
      " 7   date_time            48204 non-null  object \n",
      " 8   traffic_volume       48204 non-null  int64  \n",
      "dtypes: float64(3), int64(2), object(4)\n",
      "memory usage: 3.3+ MB\n"
     ]
    }
   ],
   "source": [
    "traffic_base_df = pd.read_csv('Traffic_Volume.csv')\n",
    "traffic_base_df.info()\n"
   ]
  },
  {
   "cell_type": "code",
   "execution_count": 3,
   "metadata": {},
   "outputs": [
    {
     "data": {
      "text/plain": [
       "weather_description\n",
       "sky is clear                           13391\n",
       "mist                                    5950\n",
       "overcast clouds                         5081\n",
       "broken clouds                           4666\n",
       "scattered clouds                        3461\n",
       "light rain                              3372\n",
       "few clouds                              1956\n",
       "light snow                              1946\n",
       "moderate rain                           1664\n",
       "haze                                    1360\n",
       "light intensity drizzle                 1100\n",
       "fog                                      912\n",
       "proximity thunderstorm                   673\n",
       "drizzle                                  651\n",
       "heavy snow                               616\n",
       "heavy intensity rain                     467\n",
       "snow                                     293\n",
       "proximity shower rain                    136\n",
       "thunderstorm                             125\n",
       "heavy intensity drizzle                   64\n",
       "thunderstorm with heavy rain              63\n",
       "thunderstorm with light rain              54\n",
       "proximity thunderstorm with rain          52\n",
       "thunderstorm with rain                    37\n",
       "smoke                                     20\n",
       "very heavy rain                           18\n",
       "thunderstorm with light drizzle           15\n",
       "light intensity shower rain               13\n",
       "proximity thunderstorm with drizzle       13\n",
       "light shower snow                         11\n",
       "light rain and snow                        6\n",
       "shower drizzle                             6\n",
       "SQUALLS                                    4\n",
       "sleet                                      3\n",
       "freezing rain                              2\n",
       "thunderstorm with drizzle                  2\n",
       "shower snow                                1\n",
       "Name: count, dtype: int64"
      ]
     },
     "execution_count": 3,
     "metadata": {},
     "output_type": "execute_result"
    }
   ],
   "source": [
    "traffic_base_df['weather_description'].replace(to_replace='Sky is Clear',value='sky is clear',inplace=True)\n",
    "traffic_base_df['weather_description'].value_counts(normalize=False)"
   ]
  },
  {
   "cell_type": "code",
   "execution_count": 4,
   "metadata": {},
   "outputs": [
    {
     "data": {
      "text/plain": [
       "{'Christmas Day': [2360, 10939, 20185, 29503, 29504, 40057], 'Columbus Day': [126, 9455, 18946, 27224, 37882], 'Independence Day': [7414, 16204, 24654, 35057, 45547], 'Labor Day': [8742, 18041, 26319, 26320, 36882, 47330, 47331], 'Martin Luther King Jr Day': [11611, 30080, 30081, 40655, 40656, 40657], 'Memorial Day': [6430, 14645, 23781, 34095, 44441], 'New Years Day': [2559, 11132, 20344, 20345, 29674, 40255], 'State Fair': [8575, 17750, 26002, 36551, 46936], 'Thanksgiving Day': [1370, 10181, 19675, 19676, 28399, 39180], 'Veterans Day': [1123, 9768, 19410, 27983, 38803], 'Washingtons Birthday': [3697, 12303, 21294, 31145, 41611]}"
      ]
     },
     "execution_count": 4,
     "metadata": {},
     "output_type": "execute_result"
    }
   ],
   "source": [
    "traffic_base_df.groupby('holiday').groups\n"
   ]
  },
  {
   "cell_type": "code",
   "execution_count": 5,
   "metadata": {},
   "outputs": [],
   "source": [
    "#h = traffic_base_df['holiday']\n",
    "#h.iloc[126:149]\n",
    "\n",
    "# Ensuring Holiday Label is present on entire day's worth of data\n",
    "traffic_base_df.iloc[2361:2384,0] = 'Christmas Day'\n",
    "traffic_base_df.iloc[10940:10963,0] = 'Christmas Day'\n",
    "traffic_base_df.iloc[20186:20209,0] = 'Christmas Day'\n",
    "traffic_base_df.iloc[29504:29527,0] = 'Christmas Day'\n",
    "traffic_base_df.iloc[40058:40081,0] = 'Christmas Day'\n",
    "\n",
    "traffic_base_df.iloc[127:150,0] = 'Columbus Day'\n",
    "traffic_base_df.iloc[9456:9479,0] = 'Columbus Day'\n",
    "traffic_base_df.iloc[18947:18970,0] = 'Columbus Day'\n",
    "traffic_base_df.iloc[27225:27248,0] = 'Columbus Day'\n",
    "traffic_base_df.iloc[37883:37906,0] = 'Columbus Day'\n",
    "\n",
    "traffic_base_df.iloc[7415:7438,0] = 'Independance Day'\n",
    "traffic_base_df.iloc[16205:16228,0] = 'Independance Day'\n",
    "traffic_base_df.iloc[24655:24678,0] = 'Independance Day'\n",
    "traffic_base_df.iloc[35058:35081,0] = 'Independance Day'\n",
    "traffic_base_df.iloc[45548:45571,0] = 'Independance Day'\n",
    "\n",
    "\n",
    "traffic_base_df.iloc[8743:8766,0] = 'Labor Day'\n",
    "traffic_base_df.iloc[18042:18065,0] = 'Labor Day'\n",
    "traffic_base_df.iloc[26320:26343,0] = 'Labor Day'\n",
    "traffic_base_df.iloc[36883:36906,0] = 'Labor Day'\n",
    "traffic_base_df.iloc[47331:47354,0] = 'Labor Day'\n",
    "\n",
    "traffic_base_df.iloc[11612:11635,0] = 'Martin Luther King Jr Day'\n",
    "traffic_base_df.iloc[30081:30104,0] = 'Martin Luther King Jr Day'\n",
    "traffic_base_df.iloc[40656:40679,0] = 'Martin Luther King Jr Day'\n",
    "\n",
    "traffic_base_df.iloc[6431:6454,0] = 'Memorial Day'\n",
    "traffic_base_df.iloc[14646:14669,0] = 'Memorial Day'\n",
    "traffic_base_df.iloc[23782:23805,0] = 'Memorial Day'\n",
    "traffic_base_df.iloc[34096:34119,0] = 'Memorial Day'\n",
    "traffic_base_df.iloc[44442:44465,0] = 'Memorial Day'\n",
    "\n",
    "traffic_base_df.iloc[2560:2583,0] = 'New Years Day'\n",
    "traffic_base_df.iloc[11133:11156,0] = 'New Years Day'\n",
    "traffic_base_df.iloc[20345:20368,0] = 'New Years Day'\n",
    "traffic_base_df.iloc[29675:29698,0] = 'New Years Day'\n",
    "traffic_base_df.iloc[40256:40279,0] = 'New Years Day'\n",
    "\n",
    "traffic_base_df.iloc[8576:8599,0] = 'State Fair'\n",
    "traffic_base_df.iloc[17751:17774,0] = 'State Fair'\n",
    "traffic_base_df.iloc[26003:26026,0] = 'State Fair'\n",
    "traffic_base_df.iloc[36552:36575,0] = 'State Fair'\n",
    "traffic_base_df.iloc[46937:46960,0] = 'State Fair'\n",
    "\n",
    "traffic_base_df.iloc[1371:1394,0] = 'Thanksgiving Day'\n",
    "traffic_base_df.iloc[10182:10205,0] = 'Thanksgiving Day'\n",
    "traffic_base_df.iloc[19676:19699,0] = 'Thanksgiving Day'\n",
    "traffic_base_df.iloc[28400:28423,0] = 'Thanksgiving Day'\n",
    "traffic_base_df.iloc[39181:39204,0] = 'Thanksgiving Day'\n",
    "\n",
    "traffic_base_df.iloc[1124:1147,0] = 'Veterans Day'\n",
    "traffic_base_df.iloc[9769:9792,0] = 'Veterans Day'\n",
    "traffic_base_df.iloc[19411:19434,0] = 'Veterans Day'\n",
    "traffic_base_df.iloc[27984:28007,0] = 'Veterans Day'\n",
    "traffic_base_df.iloc[38804:38827,0] = 'Veterans Day'\n",
    "\n",
    "traffic_base_df.iloc[3698:3721,0] = 'Washingtons Birthday'\n",
    "traffic_base_df.iloc[12304:12327,0] = 'Washingtons Birthday'\n",
    "traffic_base_df.iloc[21295:21318,0] = 'Washingtons Birthday'\n",
    "traffic_base_df.iloc[31146:31169,0] = 'Washingtons Birthday'\n",
    "traffic_base_df.iloc[41612:41635,0] = 'Washingtons Birthday'\n",
    "\n",
    "\n",
    "\n"
   ]
  },
  {
   "cell_type": "code",
   "execution_count": null,
   "metadata": {},
   "outputs": [],
   "source": []
  },
  {
   "cell_type": "markdown",
   "metadata": {},
   "source": []
  },
  {
   "cell_type": "code",
   "execution_count": 6,
   "metadata": {},
   "outputs": [],
   "source": [
    "traffic_base_df['date_time'].values\n",
    "traffic_base_df['month'] = pd.DatetimeIndex(traffic_base_df['date_time']).month \n",
    "traffic_base_df['weekday'] = pd.DatetimeIndex(traffic_base_df['date_time']).weekday\n",
    "traffic_base_df['time'] = pd.DatetimeIndex(traffic_base_df['date_time']).hour\n",
    "# split date time into date and time columns \n",
    "# remove year\n"
   ]
  },
  {
   "cell_type": "code",
   "execution_count": 7,
   "metadata": {},
   "outputs": [
    {
     "data": {
      "text/html": [
       "<div>\n",
       "<style scoped>\n",
       "    .dataframe tbody tr th:only-of-type {\n",
       "        vertical-align: middle;\n",
       "    }\n",
       "\n",
       "    .dataframe tbody tr th {\n",
       "        vertical-align: top;\n",
       "    }\n",
       "\n",
       "    .dataframe thead th {\n",
       "        text-align: right;\n",
       "    }\n",
       "</style>\n",
       "<table border=\"1\" class=\"dataframe\">\n",
       "  <thead>\n",
       "    <tr style=\"text-align: right;\">\n",
       "      <th></th>\n",
       "      <th>holiday</th>\n",
       "      <th>temp</th>\n",
       "      <th>rain_1h</th>\n",
       "      <th>snow_1h</th>\n",
       "      <th>clouds_all</th>\n",
       "      <th>weather_main</th>\n",
       "      <th>month</th>\n",
       "      <th>weekday</th>\n",
       "      <th>time</th>\n",
       "      <th>traffic_volume</th>\n",
       "    </tr>\n",
       "  </thead>\n",
       "  <tbody>\n",
       "    <tr>\n",
       "      <th>0</th>\n",
       "      <td>NaN</td>\n",
       "      <td>288.28</td>\n",
       "      <td>0.0</td>\n",
       "      <td>0.0</td>\n",
       "      <td>40</td>\n",
       "      <td>Clouds</td>\n",
       "      <td>10</td>\n",
       "      <td>1</td>\n",
       "      <td>9</td>\n",
       "      <td>5545</td>\n",
       "    </tr>\n",
       "    <tr>\n",
       "      <th>1</th>\n",
       "      <td>NaN</td>\n",
       "      <td>289.36</td>\n",
       "      <td>0.0</td>\n",
       "      <td>0.0</td>\n",
       "      <td>75</td>\n",
       "      <td>Clouds</td>\n",
       "      <td>10</td>\n",
       "      <td>1</td>\n",
       "      <td>10</td>\n",
       "      <td>4516</td>\n",
       "    </tr>\n",
       "    <tr>\n",
       "      <th>2</th>\n",
       "      <td>NaN</td>\n",
       "      <td>289.58</td>\n",
       "      <td>0.0</td>\n",
       "      <td>0.0</td>\n",
       "      <td>90</td>\n",
       "      <td>Clouds</td>\n",
       "      <td>10</td>\n",
       "      <td>1</td>\n",
       "      <td>11</td>\n",
       "      <td>4767</td>\n",
       "    </tr>\n",
       "    <tr>\n",
       "      <th>3</th>\n",
       "      <td>NaN</td>\n",
       "      <td>290.13</td>\n",
       "      <td>0.0</td>\n",
       "      <td>0.0</td>\n",
       "      <td>90</td>\n",
       "      <td>Clouds</td>\n",
       "      <td>10</td>\n",
       "      <td>1</td>\n",
       "      <td>12</td>\n",
       "      <td>5026</td>\n",
       "    </tr>\n",
       "    <tr>\n",
       "      <th>4</th>\n",
       "      <td>NaN</td>\n",
       "      <td>291.14</td>\n",
       "      <td>0.0</td>\n",
       "      <td>0.0</td>\n",
       "      <td>75</td>\n",
       "      <td>Clouds</td>\n",
       "      <td>10</td>\n",
       "      <td>1</td>\n",
       "      <td>13</td>\n",
       "      <td>4918</td>\n",
       "    </tr>\n",
       "    <tr>\n",
       "      <th>...</th>\n",
       "      <td>...</td>\n",
       "      <td>...</td>\n",
       "      <td>...</td>\n",
       "      <td>...</td>\n",
       "      <td>...</td>\n",
       "      <td>...</td>\n",
       "      <td>...</td>\n",
       "      <td>...</td>\n",
       "      <td>...</td>\n",
       "      <td>...</td>\n",
       "    </tr>\n",
       "    <tr>\n",
       "      <th>48199</th>\n",
       "      <td>NaN</td>\n",
       "      <td>283.45</td>\n",
       "      <td>0.0</td>\n",
       "      <td>0.0</td>\n",
       "      <td>75</td>\n",
       "      <td>Clouds</td>\n",
       "      <td>9</td>\n",
       "      <td>6</td>\n",
       "      <td>19</td>\n",
       "      <td>3543</td>\n",
       "    </tr>\n",
       "    <tr>\n",
       "      <th>48200</th>\n",
       "      <td>NaN</td>\n",
       "      <td>282.76</td>\n",
       "      <td>0.0</td>\n",
       "      <td>0.0</td>\n",
       "      <td>90</td>\n",
       "      <td>Clouds</td>\n",
       "      <td>9</td>\n",
       "      <td>6</td>\n",
       "      <td>20</td>\n",
       "      <td>2781</td>\n",
       "    </tr>\n",
       "    <tr>\n",
       "      <th>48201</th>\n",
       "      <td>NaN</td>\n",
       "      <td>282.73</td>\n",
       "      <td>0.0</td>\n",
       "      <td>0.0</td>\n",
       "      <td>90</td>\n",
       "      <td>Thunderstorm</td>\n",
       "      <td>9</td>\n",
       "      <td>6</td>\n",
       "      <td>21</td>\n",
       "      <td>2159</td>\n",
       "    </tr>\n",
       "    <tr>\n",
       "      <th>48202</th>\n",
       "      <td>NaN</td>\n",
       "      <td>282.09</td>\n",
       "      <td>0.0</td>\n",
       "      <td>0.0</td>\n",
       "      <td>90</td>\n",
       "      <td>Clouds</td>\n",
       "      <td>9</td>\n",
       "      <td>6</td>\n",
       "      <td>22</td>\n",
       "      <td>1450</td>\n",
       "    </tr>\n",
       "    <tr>\n",
       "      <th>48203</th>\n",
       "      <td>NaN</td>\n",
       "      <td>282.12</td>\n",
       "      <td>0.0</td>\n",
       "      <td>0.0</td>\n",
       "      <td>90</td>\n",
       "      <td>Clouds</td>\n",
       "      <td>9</td>\n",
       "      <td>6</td>\n",
       "      <td>23</td>\n",
       "      <td>954</td>\n",
       "    </tr>\n",
       "  </tbody>\n",
       "</table>\n",
       "<p>48204 rows × 10 columns</p>\n",
       "</div>"
      ],
      "text/plain": [
       "      holiday    temp  rain_1h  snow_1h  clouds_all  weather_main  month  \\\n",
       "0         NaN  288.28      0.0      0.0          40        Clouds     10   \n",
       "1         NaN  289.36      0.0      0.0          75        Clouds     10   \n",
       "2         NaN  289.58      0.0      0.0          90        Clouds     10   \n",
       "3         NaN  290.13      0.0      0.0          90        Clouds     10   \n",
       "4         NaN  291.14      0.0      0.0          75        Clouds     10   \n",
       "...       ...     ...      ...      ...         ...           ...    ...   \n",
       "48199     NaN  283.45      0.0      0.0          75        Clouds      9   \n",
       "48200     NaN  282.76      0.0      0.0          90        Clouds      9   \n",
       "48201     NaN  282.73      0.0      0.0          90  Thunderstorm      9   \n",
       "48202     NaN  282.09      0.0      0.0          90        Clouds      9   \n",
       "48203     NaN  282.12      0.0      0.0          90        Clouds      9   \n",
       "\n",
       "       weekday  time  traffic_volume  \n",
       "0            1     9            5545  \n",
       "1            1    10            4516  \n",
       "2            1    11            4767  \n",
       "3            1    12            5026  \n",
       "4            1    13            4918  \n",
       "...        ...   ...             ...  \n",
       "48199        6    19            3543  \n",
       "48200        6    20            2781  \n",
       "48201        6    21            2159  \n",
       "48202        6    22            1450  \n",
       "48203        6    23             954  \n",
       "\n",
       "[48204 rows x 10 columns]"
      ]
     },
     "execution_count": 7,
     "metadata": {},
     "output_type": "execute_result"
    }
   ],
   "source": [
    "\n",
    "df2 = traffic_base_df.drop(columns=['date_time','weather_description'])\n",
    "df2 = df2[['holiday','temp','rain_1h','snow_1h','clouds_all',\n",
    "                                   'weather_main','month','weekday','time','traffic_volume']]\n",
    "\n",
    "#traffic_base_df.to_csv(index=False)\n",
    "df2.to_csv('traffic_clean.csv', encoding='utf-8', index=False)\n",
    "# create new dataframe and turn into csv to use in streamlit\n",
    "df2"
   ]
  },
  {
   "cell_type": "code",
   "execution_count": 8,
   "metadata": {},
   "outputs": [],
   "source": [
    "#DF to CSV for use on website"
   ]
  },
  {
   "cell_type": "code",
   "execution_count": 9,
   "metadata": {},
   "outputs": [
    {
     "name": "stdout",
     "output_type": "stream",
     "text": [
      "         temp  rain_1h  snow_1h  clouds_all  holiday_Christmas Day  \\\n",
      "0      288.28      0.0      0.0          40                  False   \n",
      "1      289.36      0.0      0.0          75                  False   \n",
      "2      289.58      0.0      0.0          90                  False   \n",
      "3      290.13      0.0      0.0          90                  False   \n",
      "4      291.14      0.0      0.0          75                  False   \n",
      "...       ...      ...      ...         ...                    ...   \n",
      "48199  283.45      0.0      0.0          75                  False   \n",
      "48200  282.76      0.0      0.0          90                  False   \n",
      "48201  282.73      0.0      0.0          90                  False   \n",
      "48202  282.09      0.0      0.0          90                  False   \n",
      "48203  282.12      0.0      0.0          90                  False   \n",
      "\n",
      "       holiday_Columbus Day  holiday_Independance Day  \\\n",
      "0                     False                     False   \n",
      "1                     False                     False   \n",
      "2                     False                     False   \n",
      "3                     False                     False   \n",
      "4                     False                     False   \n",
      "...                     ...                       ...   \n",
      "48199                 False                     False   \n",
      "48200                 False                     False   \n",
      "48201                 False                     False   \n",
      "48202                 False                     False   \n",
      "48203                 False                     False   \n",
      "\n",
      "       holiday_Independence Day  holiday_Labor Day  \\\n",
      "0                         False              False   \n",
      "1                         False              False   \n",
      "2                         False              False   \n",
      "3                         False              False   \n",
      "4                         False              False   \n",
      "...                         ...                ...   \n",
      "48199                     False              False   \n",
      "48200                     False              False   \n",
      "48201                     False              False   \n",
      "48202                     False              False   \n",
      "48203                     False              False   \n",
      "\n",
      "       holiday_Martin Luther King Jr Day  ...  time_14  time_15  time_16  \\\n",
      "0                                  False  ...    False    False    False   \n",
      "1                                  False  ...    False    False    False   \n",
      "2                                  False  ...    False    False    False   \n",
      "3                                  False  ...    False    False    False   \n",
      "4                                  False  ...    False    False    False   \n",
      "...                                  ...  ...      ...      ...      ...   \n",
      "48199                              False  ...    False    False    False   \n",
      "48200                              False  ...    False    False    False   \n",
      "48201                              False  ...    False    False    False   \n",
      "48202                              False  ...    False    False    False   \n",
      "48203                              False  ...    False    False    False   \n",
      "\n",
      "       time_17  time_18  time_19  time_20  time_21  time_22  time_23  \n",
      "0        False    False    False    False    False    False    False  \n",
      "1        False    False    False    False    False    False    False  \n",
      "2        False    False    False    False    False    False    False  \n",
      "3        False    False    False    False    False    False    False  \n",
      "4        False    False    False    False    False    False    False  \n",
      "...        ...      ...      ...      ...      ...      ...      ...  \n",
      "48199    False    False     True    False    False    False    False  \n",
      "48200    False    False    False     True    False    False    False  \n",
      "48201    False    False    False    False     True    False    False  \n",
      "48202    False    False    False    False    False     True    False  \n",
      "48203    False    False    False    False    False    False     True  \n",
      "\n",
      "[48204 rows x 70 columns]\n"
     ]
    }
   ],
   "source": [
    "X = df2.drop(columns=['traffic_volume'])\n",
    "y = df2['traffic_volume']\n",
    "\n",
    "cat_var = ['holiday','weather_main','month','weekday','time']\n",
    "X_encoded = pd.get_dummies(X, columns=cat_var)\n",
    "\n",
    "print(X_encoded)"
   ]
  },
  {
   "cell_type": "code",
   "execution_count": 10,
   "metadata": {},
   "outputs": [],
   "source": [
    "train_X, test_X, train_y, test_y = train_test_split(X_encoded, y, test_size = 0.2, random_state = 17)"
   ]
  },
  {
   "cell_type": "code",
   "execution_count": 11,
   "metadata": {},
   "outputs": [],
   "source": [
    "# DT Regressor\n",
    "dt_r = DecisionTreeRegressor(random_state=11)"
   ]
  },
  {
   "cell_type": "code",
   "execution_count": 12,
   "metadata": {},
   "outputs": [],
   "source": [
    "hyper_params = {\n",
    "    'max_depth': list(range(8,10)),\n",
    "    'min_samples_split': list(range(2,5)),\n",
    "    'min_samples_leaf': list(range(3,15))\n",
    "}\n",
    "dt_folds = KFold(n_splits=5, shuffle=True,random_state=99)\n",
    "\n",
    "dt_random_model_cv = RandomizedSearchCV(estimator=dt_r,\n",
    "                                 param_distributions=hyper_params,\n",
    "                                 n_iter=20,\n",
    "                                 scoring = 'r2',\n",
    "                                 verbose= 1,\n",
    "                                 random_state=33,\n",
    "                                 n_jobs =-1)\n",
    "\n"
   ]
  },
  {
   "cell_type": "code",
   "execution_count": 13,
   "metadata": {},
   "outputs": [
    {
     "name": "stdout",
     "output_type": "stream",
     "text": [
      "Fitting 5 folds for each of 20 candidates, totalling 100 fits\n",
      "Training time: 9.406239748001099s\n"
     ]
    }
   ],
   "source": [
    "start = time.time()            # Start Time\n",
    "dt_random_model_cv.fit(train_X, train_y)\n",
    "stop = time.time()             # End Time\n",
    "print(f\"Training time: {stop - start}s\")"
   ]
  },
  {
   "cell_type": "code",
   "execution_count": 14,
   "metadata": {},
   "outputs": [
    {
     "name": "stdout",
     "output_type": "stream",
     "text": [
      "Initial score:  0.7222847951882488\n",
      "Initial parameters:  {'min_samples_split': 4, 'min_samples_leaf': 4, 'max_depth': 9}\n"
     ]
    }
   ],
   "source": [
    "print('Initial score: ', dt_random_model_cv.best_score_)\n",
    "\n",
    "# Return set of parameters with the best performance\n",
    "print('Initial parameters: ', dt_random_model_cv.best_params_)"
   ]
  },
  {
   "cell_type": "code",
   "execution_count": 15,
   "metadata": {},
   "outputs": [
    {
     "data": {
      "text/plain": [
       "{'max_depth': [6, 7, 8, 9, 10],\n",
       " 'min_samples_leaf': [2, 3, 4, 5],\n",
       " 'min_samples_split': [2, 3, 4, 5]}"
      ]
     },
     "execution_count": 15,
     "metadata": {},
     "output_type": "execute_result"
    }
   ],
   "source": [
    "# Retune DT with Grid Search\n",
    "\n",
    "dt_grid_params= {\n",
    "    'max_depth': [6,7,8,9,10],\n",
    "    'min_samples_leaf': [2,3,4,5],\n",
    "    'min_samples_split': [2,3,4,5]\n",
    "}\n",
    "dt_grid_params"
   ]
  },
  {
   "cell_type": "code",
   "execution_count": 16,
   "metadata": {},
   "outputs": [],
   "source": [
    "dt_grid_model_cv = GridSearchCV(estimator = dt_r, \n",
    "                        param_grid = dt_grid_params, \n",
    "                        scoring= 'r2', \n",
    "                        cv = dt_folds, \n",
    "                        verbose = 1,\n",
    "                        n_jobs = -1)"
   ]
  },
  {
   "cell_type": "code",
   "execution_count": 17,
   "metadata": {},
   "outputs": [
    {
     "name": "stdout",
     "output_type": "stream",
     "text": [
      "Fitting 5 folds for each of 80 candidates, totalling 400 fits\n",
      "Training time: 21.443254470825195s\n"
     ]
    }
   ],
   "source": [
    "# Fit the model\n",
    "start = time.time()            # Start Time\n",
    "dt_grid_model_cv.fit(train_X, train_y)\n",
    "stop = time.time()             # End Time\n",
    "print(f\"Training time: {stop - start}s\")"
   ]
  },
  {
   "cell_type": "code",
   "execution_count": 18,
   "metadata": {},
   "outputs": [
    {
     "name": "stdout",
     "output_type": "stream",
     "text": [
      "Improved score:  0.7647870783898764\n",
      "Improved parameters:  {'max_depth': 10, 'min_samples_leaf': 5, 'min_samples_split': 2}\n"
     ]
    }
   ],
   "source": [
    "print('Improved score: ', dt_grid_model_cv.best_score_)\n",
    "print('Improved parameters: ', dt_grid_model_cv.best_params_)"
   ]
  },
  {
   "cell_type": "code",
   "execution_count": 19,
   "metadata": {},
   "outputs": [
    {
     "data": {
      "image/png": "[encoded data removed]",
      "text/plain": [
       "<Figure size 1000x500 with 1 Axes>"
      ]
     },
     "metadata": {},
     "output_type": "display_data"
    }
   ],
   "source": [
    "# Storing importance values from the trained model\n",
    "dt_importance = dt_grid_model_cv.best_estimator_.feature_importances_\n",
    "\n",
    "# Storing feature importance as a dataframe\n",
    "dt_feature_imp = pd.DataFrame(list(zip(train_X.columns, dt_importance)),\n",
    "               columns = ['Feature', 'Importance'])\n",
    "\n",
    "dt_feature_imp = dt_feature_imp.sort_values('Importance', ascending = False).reset_index(drop = True)\n",
    "\n",
    "# Bar plot\n",
    "dt_feature_imp_nonzero = dt_feature_imp[dt_feature_imp['Importance'] > 0.015]\n",
    "dt_fig = plt.figure(figsize=(10, 5))\n",
    "plt.barh(dt_feature_imp_nonzero['Feature'], dt_feature_imp_nonzero['Importance'], color = ['red', 'green'])\n",
    "\n",
    "plt.xlabel(\"Importance\", fontsize = 12)\n",
    "plt.ylabel(\"Input Feature\", fontsize = 12)\n",
    "plt.title('Which features are the most important for traffic congestion prediction?', fontsize = 12) \n",
    "plt.yticks(fontsize = 8) # fontsize of yticks\n",
    "plt.xticks(fontsize = 8) # fontsize of xticks\n",
    "\n",
    "plt.tight_layout();\n",
    "dt_fig.savefig('dt_traffic_feature_imp.svg')"
   ]
  },
  {
   "cell_type": "code",
   "execution_count": 20,
   "metadata": {},
   "outputs": [],
   "source": [
    "# Save DT Pickle\n",
    "dt_pickle = open('dt_traffic.pickle', 'wb') \n",
    "\n",
    "# Write DT model to the file\n",
    "pickle.dump(dt_grid_model_cv, dt_pickle) \n",
    "\n",
    "# Close the file\n",
    "dt_pickle.close() "
   ]
  },
  {
   "cell_type": "code",
   "execution_count": null,
   "metadata": {},
   "outputs": [],
   "source": []
  },
  {
   "cell_type": "code",
   "execution_count": 21,
   "metadata": {},
   "outputs": [],
   "source": [
    "rf_regress = RandomForestRegressor(random_state=11)"
   ]
  },
  {
   "cell_type": "code",
   "execution_count": 22,
   "metadata": {},
   "outputs": [
    {
     "name": "stdout",
     "output_type": "stream",
     "text": [
      "{'max_depth': [2, 6, 11, 15, 20],\n",
      " 'min_samples_leaf': [5, 10, 20],\n",
      " 'min_samples_split': [5, 10, 20],\n",
      " 'n_estimators': [50, 162, 275, 387, 500]}\n"
     ]
    }
   ],
   "source": [
    "# RF Model\n",
    "n_estimators = [int(x) for x in np.linspace(start = 50, stop = 500, num = 5)]\n",
    "\n",
    "# Maximum number of levels in tree\n",
    "max_depth = [int(x) for x in np.linspace(2, 20, num = 5)]\n",
    "\n",
    "# Minimum number of samples required to split a node\n",
    "min_samples_split = [5, 10, 20]\n",
    "\n",
    "# Minimum number of samples required at each leaf node\n",
    "min_samples_leaf = [5, 10, 20]\n",
    "\n",
    "# Create the random grid\n",
    "random_grid = {'n_estimators': n_estimators,\n",
    "               'max_depth': max_depth,\n",
    "               'min_samples_split': min_samples_split,\n",
    "               'min_samples_leaf': min_samples_leaf}\n",
    "\n",
    "pprint(random_grid)"
   ]
  },
  {
   "cell_type": "code",
   "execution_count": 23,
   "metadata": {},
   "outputs": [],
   "source": [
    "rf_folds = KFold(n_splits=3,shuffle=True,random_state=99)\n",
    "\n",
    "rf_random_model_cv = RandomizedSearchCV(estimator=rf_regress,\n",
    "                                        param_distributions=random_grid,\n",
    "                                        n_iter =20,\n",
    "                                        scoring = 'r2',\n",
    "                                        cv = rf_folds,\n",
    "                                        verbose =1,\n",
    "                                        n_jobs =-1)"
   ]
  },
  {
   "cell_type": "code",
   "execution_count": 24,
   "metadata": {},
   "outputs": [
    {
     "name": "stdout",
     "output_type": "stream",
     "text": [
      "Fitting 3 folds for each of 20 candidates, totalling 60 fits\n",
      "Training time: 447.9464228153229s\n"
     ]
    }
   ],
   "source": [
    "start = time.time()            # Start Time\n",
    "rf_random_model_cv.fit(train_X, train_y)  \n",
    "stop = time.time()             # End Time\n",
    "print(f\"Training time: {stop - start}s\")"
   ]
  },
  {
   "cell_type": "code",
   "execution_count": 25,
   "metadata": {},
   "outputs": [
    {
     "name": "stdout",
     "output_type": "stream",
     "text": [
      "Initial score:  0.9395098304422437\n",
      "Initial parameters:  {'n_estimators': 50, 'min_samples_split': 5, 'min_samples_leaf': 5, 'max_depth': 20}\n"
     ]
    }
   ],
   "source": [
    "print('Initial score: ', rf_random_model_cv.best_score_)\n",
    "\n",
    "# Return set of parameters with the best performance\n",
    "print('Initial parameters: ', rf_random_model_cv.best_params_)"
   ]
  },
  {
   "cell_type": "code",
   "execution_count": 26,
   "metadata": {},
   "outputs": [],
   "source": [
    "rf_grid_params = {\n",
    "    'n_estimators': [250,275,300],\n",
    "    'max_depth': [15,20,25],\n",
    "    'min_samples_split': [15,20,25],\n",
    "    'min_samples_leaf': [3,4,5,6]\n",
    "}"
   ]
  },
  {
   "cell_type": "code",
   "execution_count": 27,
   "metadata": {},
   "outputs": [],
   "source": [
    "# Retune RF with grid search cv\n",
    "rf_grid_model_cv = GridSearchCV(estimator = rf_regress, \n",
    "                                param_grid = rf_grid_params, \n",
    "                                scoring= 'r2', \n",
    "                                cv = rf_folds, \n",
    "                                verbose = 1,\n",
    "                                n_jobs = -1)"
   ]
  },
  {
   "cell_type": "code",
   "execution_count": 28,
   "metadata": {},
   "outputs": [
    {
     "name": "stdout",
     "output_type": "stream",
     "text": [
      "Fitting 3 folds for each of 108 candidates, totalling 324 fits\n",
      "Training time: 11207.777131795883s\n"
     ]
    }
   ],
   "source": [
    "start = time.time()            # Start Time\n",
    "rf_grid_model_cv.fit(train_X, train_y)  \n",
    "stop = time.time()             # End Time\n",
    "print(f\"Training time: {stop - start}s\")"
   ]
  },
  {
   "cell_type": "code",
   "execution_count": 29,
   "metadata": {},
   "outputs": [
    {
     "name": "stdout",
     "output_type": "stream",
     "text": [
      "Improved score:  0.9497797350067736\n",
      "Improved parameters:  {'max_depth': 25, 'min_samples_leaf': 3, 'min_samples_split': 15, 'n_estimators': 300}\n"
     ]
    }
   ],
   "source": [
    "print('Improved score: ', rf_grid_model_cv.best_score_)\n",
    "print('Improved parameters: ', rf_grid_model_cv.best_params_)"
   ]
  },
  {
   "cell_type": "code",
   "execution_count": 30,
   "metadata": {},
   "outputs": [],
   "source": [
    "rf_pickle = open('rf_traffic.pickle', 'wb') \n",
    "\n",
    "# Write DT model to the file\n",
    "pickle.dump(rf_grid_model_cv, rf_pickle) \n",
    "\n",
    "# Close the file\n",
    "rf_pickle.close() "
   ]
  },
  {
   "cell_type": "code",
   "execution_count": 31,
   "metadata": {},
   "outputs": [
    {
     "data": {
      "image/png": "[encoded data removed]",
      "text/plain": [
       "<Figure size 1000x500 with 1 Axes>"
      ]
     },
     "metadata": {},
     "output_type": "display_data"
    }
   ],
   "source": [
    "# Storing importance values from the trained model\n",
    "rf_importance = rf_grid_model_cv.best_estimator_.feature_importances_\n",
    "\n",
    "# Storing feature importance as a dataframe\n",
    "rf_feature_imp = pd.DataFrame(list(zip(train_X.columns, rf_importance)),\n",
    "               columns = ['Feature', 'Importance'])\n",
    "\n",
    "rf_feature_imp = rf_feature_imp.sort_values('Importance', ascending = False).reset_index(drop = True)\n",
    "\n",
    "# Bar plot\n",
    "rf_feature_imp_nonzero = rf_feature_imp[rf_feature_imp['Importance'] > 0.015]\n",
    "plt.figure(figsize=(10, 5))\n",
    "plt.barh(rf_feature_imp_nonzero['Feature'], rf_feature_imp_nonzero['Importance'], color = ['red', 'green'])\n",
    "\n",
    "plt.xlabel(\"Importance\", fontsize = 12)\n",
    "plt.ylabel(\"Input Feature\", fontsize = 12)\n",
    "plt.title('Which features are the most important for traffic congestion prediction?', fontsize = 12) \n",
    "plt.yticks(fontsize = 8) # fontsize of yticks\n",
    "plt.xticks(fontsize = 8) # fontsize of xticks\n",
    "\n",
    "plt.tight_layout();"
   ]
  },
  {
   "cell_type": "code",
   "execution_count": null,
   "metadata": {},
   "outputs": [],
   "source": []
  },
  {
   "cell_type": "code",
   "execution_count": 32,
   "metadata": {},
   "outputs": [],
   "source": [
    "base_dt = DecisionTreeRegressor(random_state=98)"
   ]
  },
  {
   "cell_type": "code",
   "execution_count": 33,
   "metadata": {},
   "outputs": [],
   "source": [
    "# ADA Boost\n",
    "ada_reg = AdaBoostRegressor(DecisionTreeRegressor(max_depth=15))\n",
    "\n",
    "hyper_params_ada = {\n",
    "    'learning_rate': [0.2,0.4,0.6,0.8],\n",
    "    'n_estimators':[50,100,150,200]\n",
    "}"
   ]
  },
  {
   "cell_type": "code",
   "execution_count": 34,
   "metadata": {},
   "outputs": [],
   "source": [
    "ada_folds = KFold(n_splits=5,shuffle=True,random_state=68)\n",
    "\n",
    "ada_reg_model_cv = RandomizedSearchCV(estimator = ada_reg, \n",
    "                                      n_iter = 100,\n",
    "                                      param_distributions=hyper_params_ada,\n",
    "                                      scoring = 'r2', \n",
    "                                      cv = ada_folds, \n",
    "                                      verbose = 1,\n",
    "                                      random_state = 42,\n",
    "                                      n_jobs = -1) "
   ]
  },
  {
   "cell_type": "code",
   "execution_count": 35,
   "metadata": {},
   "outputs": [
    {
     "name": "stdout",
     "output_type": "stream",
     "text": [
      "Fitting 5 folds for each of 16 candidates, totalling 80 fits\n",
      "Training time: 2773.2302780151367s\n"
     ]
    }
   ],
   "source": [
    "start = time.time()            # Start Time\n",
    "ada_reg_model_cv.fit(train_X, train_y)\n",
    "stop = time.time()             # End Time\n",
    "print(f\"Training time: {stop - start}s\")"
   ]
  },
  {
   "cell_type": "code",
   "execution_count": 36,
   "metadata": {},
   "outputs": [
    {
     "name": "stdout",
     "output_type": "stream",
     "text": [
      "Initial score:  0.944198078043524\n",
      "Initial parameters:  {'n_estimators': 100, 'learning_rate': 0.2}\n"
     ]
    }
   ],
   "source": [
    "# Return the performance metric score\n",
    "print('Initial score: ', ada_reg_model_cv.best_score_)\n",
    "\n",
    "# Return set of parameters with the best performance\n",
    "print('Initial parameters: ', ada_reg_model_cv.best_params_)"
   ]
  },
  {
   "cell_type": "code",
   "execution_count": 37,
   "metadata": {},
   "outputs": [],
   "source": [
    "# Retune with grid search\n",
    "hyper_params_ada_new = {\n",
    "    'learning_rate': [0.1,0.2,0.3],\n",
    "    'n_estimators':[90,100,110,125]}\n"
   ]
  },
  {
   "cell_type": "code",
   "execution_count": 38,
   "metadata": {},
   "outputs": [],
   "source": [
    "ada_reg_model_grid_cv = GridSearchCV(estimator = ada_reg, \n",
    "                                      param_grid=hyper_params_ada_new,\n",
    "                                      scoring = 'r2', \n",
    "                                      cv = ada_folds, \n",
    "                                      verbose = 1,\n",
    "                                      n_jobs = -1) "
   ]
  },
  {
   "cell_type": "code",
   "execution_count": 39,
   "metadata": {},
   "outputs": [
    {
     "name": "stdout",
     "output_type": "stream",
     "text": [
      "Fitting 5 folds for each of 12 candidates, totalling 60 fits\n",
      "Training time: 2084.1748418807983s\n"
     ]
    }
   ],
   "source": [
    "start = time.time()            # Start Time\n",
    "ada_reg_model_grid_cv.fit(train_X, train_y)\n",
    "stop = time.time()             # End Time\n",
    "print(f\"Training time: {stop - start}s\")"
   ]
  },
  {
   "cell_type": "code",
   "execution_count": 40,
   "metadata": {},
   "outputs": [
    {
     "name": "stdout",
     "output_type": "stream",
     "text": [
      "Improved score:  0.944067302637654\n",
      "Improved parameters:  {'learning_rate': 0.2, 'n_estimators': 90}\n"
     ]
    }
   ],
   "source": [
    "print('Improved score: ', ada_reg_model_grid_cv.best_score_)\n",
    "print('Improved parameters: ', ada_reg_model_grid_cv.best_params_)"
   ]
  },
  {
   "cell_type": "code",
   "execution_count": 41,
   "metadata": {},
   "outputs": [
    {
     "data": {
      "image/png": "[encoded data removed]",
      "text/plain": [
       "<Figure size 1000x500 with 1 Axes>"
      ]
     },
     "metadata": {},
     "output_type": "display_data"
    }
   ],
   "source": [
    "# Storing importance values from the trained model\n",
    "ada_importance = ada_reg_model_grid_cv.best_estimator_.feature_importances_\n",
    "\n",
    "# Storing feature importance as a dataframe\n",
    "ada_feature_imp = pd.DataFrame(list(zip(train_X.columns, ada_importance)),\n",
    "               columns = ['Feature', 'Importance'])\n",
    "\n",
    "ada_feature_imp = ada_feature_imp.sort_values('Importance', ascending = False).reset_index(drop = True)\n",
    "\n",
    "# Bar plot\n",
    "ada_feature_imp_nonzero = ada_feature_imp[ada_feature_imp['Importance'] > 0.015]\n",
    "ada = plt.figure(figsize=(10, 5))\n",
    "plt.barh(ada_feature_imp_nonzero['Feature'], ada_feature_imp_nonzero['Importance'], color = ['red', 'green'])\n",
    "\n",
    "plt.xlabel(\"Importance\", fontsize = 12)\n",
    "plt.ylabel(\"Input Feature\", fontsize = 12)\n",
    "plt.title('Which features are the most important for traffic congestion prediction?', fontsize = 12) \n",
    "plt.yticks(fontsize = 8) # fontsize of yticks\n",
    "plt.xticks(fontsize = 8) # fontsize of xticks\n",
    "\n",
    "plt.tight_layout();\n",
    "ada.savefig('ada_traffic_feature_imp.svg')"
   ]
  },
  {
   "cell_type": "code",
   "execution_count": 42,
   "metadata": {},
   "outputs": [],
   "source": [
    "# Save DT Pickle\n",
    "ada_pickle = open('ada_traffic.pickle', 'wb') \n",
    "\n",
    "# Write DT model to the file\n",
    "pickle.dump(ada_reg_model_grid_cv, ada_pickle) \n",
    "\n",
    "# Close the file\n",
    "ada_pickle.close() "
   ]
  },
  {
   "cell_type": "code",
   "execution_count": 43,
   "metadata": {},
   "outputs": [],
   "source": [
    "# XG Boost\n",
    "base_xg = XGBRegressor()"
   ]
  },
  {
   "cell_type": "code",
   "execution_count": 44,
   "metadata": {},
   "outputs": [],
   "source": [
    "#DTrain = \n",
    "xg_params = {'max_depth':[2,4,6,8,10],\n",
    "             'n_estimators': [20,40,60]}\n",
    "xg_folds = KFold(n_splits=3,shuffle=True,random_state=78)\n",
    "xg_random_cv = RandomizedSearchCV(estimator=base_xg,\n",
    "                                  param_distributions=xg_params,\n",
    "                                  n_iter=20,\n",
    "                                  scoring='r2',\n",
    "                                  verbose=1,\n",
    "                                  random_state=79,\n",
    "                                  n_jobs=-1)"
   ]
  },
  {
   "cell_type": "code",
   "execution_count": 45,
   "metadata": {},
   "outputs": [
    {
     "name": "stdout",
     "output_type": "stream",
     "text": [
      "Fitting 5 folds for each of 15 candidates, totalling 75 fits\n",
      "Training time: 139.91116952896118s\n"
     ]
    }
   ],
   "source": [
    "start = time.time()            # Start Time\n",
    "xg_random_cv.fit(train_X, train_y)\n",
    "stop = time.time()             # End Time\n",
    "print(f\"Training time: {stop - start}s\")"
   ]
  },
  {
   "cell_type": "code",
   "execution_count": 46,
   "metadata": {},
   "outputs": [
    {
     "name": "stdout",
     "output_type": "stream",
     "text": [
      "Initial score:  0.9624533036295715\n",
      "Initial parameters:  {'n_estimators': 60, 'max_depth': 10}\n"
     ]
    }
   ],
   "source": [
    "# Return set of parameters with the best performance\n",
    "print('Initial score: ', xg_random_cv.best_score_)\n",
    "print('Initial parameters: ', xg_random_cv.best_params_)\n"
   ]
  },
  {
   "cell_type": "code",
   "execution_count": 47,
   "metadata": {},
   "outputs": [],
   "source": [
    "#retune with grid search\n",
    "\n",
    "xg_params_new = {'max_depth':[8,10,12,14,16],\n",
    "             'n_estimators': [50,60,70,80,100]}\n",
    "xg_reg_model_grid_cv = GridSearchCV(estimator = base_xg, \n",
    "                                      param_grid=xg_params_new,\n",
    "                                      scoring = 'r2', \n",
    "                                      cv = xg_folds, \n",
    "                                      verbose = 1,\n",
    "                                      n_jobs = -1) \n",
    "\n"
   ]
  },
  {
   "cell_type": "code",
   "execution_count": 48,
   "metadata": {},
   "outputs": [
    {
     "name": "stdout",
     "output_type": "stream",
     "text": [
      "Fitting 3 folds for each of 25 candidates, totalling 75 fits\n",
      "Training time: 42.0776309967041s\n"
     ]
    }
   ],
   "source": [
    "start = time.time()            # Start Time\n",
    "xg_reg_model_grid_cv.fit(train_X, train_y)\n",
    "stop = time.time()             # End Time\n",
    "print(f\"Training time: {stop - start}s\")"
   ]
  },
  {
   "cell_type": "code",
   "execution_count": 49,
   "metadata": {},
   "outputs": [
    {
     "name": "stdout",
     "output_type": "stream",
     "text": [
      "Improved score:  0.9619593334495663\n",
      "Improved parameters:  {'max_depth': 8, 'n_estimators': 100}\n"
     ]
    }
   ],
   "source": [
    "print('Improved score: ', xg_reg_model_grid_cv.best_score_)\n",
    "print('Improved parameters: ', xg_reg_model_grid_cv.best_params_)"
   ]
  },
  {
   "cell_type": "code",
   "execution_count": 50,
   "metadata": {},
   "outputs": [
    {
     "data": {
      "image/png": "[encoded data removed]",
      "text/plain": [
       "<Figure size 1000x500 with 1 Axes>"
      ]
     },
     "metadata": {},
     "output_type": "display_data"
    }
   ],
   "source": [
    "# Storing importance values from the trained model\n",
    "xg_importance = xg_reg_model_grid_cv.best_estimator_.feature_importances_\n",
    "\n",
    "# Storing feature importance as a dataframe\n",
    "xg_feature_imp = pd.DataFrame(list(zip(train_X.columns, xg_importance)),\n",
    "               columns = ['Feature', 'Importance'])\n",
    "\n",
    "xg_feature_imp = xg_feature_imp.sort_values('Importance', ascending = False).reset_index(drop = True)\n",
    "\n",
    "# Bar plot\n",
    "xg_feature_imp_nonzero = xg_feature_imp[xg_feature_imp['Importance'] > 0.015]\n",
    "xg_fig = plt.figure(figsize=(10, 5))\n",
    "plt.barh(xg_feature_imp_nonzero['Feature'], xg_feature_imp_nonzero['Importance'], color = ['red', 'green'])\n",
    "\n",
    "plt.xlabel(\"Importance\", fontsize = 12)\n",
    "plt.ylabel(\"Input Feature\", fontsize = 10)\n",
    "plt.title('Which features are the most important for traffic congestion prediction?', fontsize = 12) \n",
    "plt.yticks(fontsize = 8) # fontsize of yticks\n",
    "plt.xticks(fontsize = 8) # fontsize of xticks\n",
    "\n",
    "plt.tight_layout();\n",
    "xg_fig.savefig('xg_traffic_feature_imp.svg')"
   ]
  },
  {
   "cell_type": "markdown",
   "metadata": {},
   "source": []
  },
  {
   "cell_type": "code",
   "execution_count": 51,
   "metadata": {},
   "outputs": [],
   "source": [
    "#pickle\n",
    "# Save DT Pickle\n",
    "xg_pickle = open('xg_traffic.pickle', 'wb') \n",
    "\n",
    "# Write DT model to the file\n",
    "pickle.dump(xg_reg_model_grid_cv, xg_pickle) \n",
    "\n",
    "# Close the file\n",
    "xg_pickle.close() "
   ]
  },
  {
   "cell_type": "code",
   "execution_count": 52,
   "metadata": {},
   "outputs": [
    {
     "name": "stdout",
     "output_type": "stream",
     "text": [
      "0.7612554914244876\n",
      "968.558806191564\n"
     ]
    }
   ],
   "source": [
    "#r2 and RMSE Table\n",
    "# run y_pred and then use sklearn metrics to create data table with scores\n",
    "#r2 and RMSE Table\n",
    "# run y_pred and then use sklearn metrics to create data table with scores\n",
    "y_pred_tr_dt = dt_grid_model_cv.predict(test_X)\n",
    "y_pred_tr_rf = rf_grid_model_cv.predict(test_X)\n",
    "y_pred_tr_ada = ada_reg_model_grid_cv.predict(test_X)\n",
    "y_pred_tr_xg = xg_reg_model_grid_cv.predict(test_X)\n",
    "\n",
    "\n",
    "dt_r2 = metrics.r2_score(test_y, y_pred_tr_dt)\n",
    "dt_RMSE = np.sqrt(metrics.mean_squared_error(test_y,y_pred_tr_dt))\n",
    "print(dt_r2)\n",
    "print(dt_RMSE)\n",
    "rf_r2 = metrics.r2_score(test_y, y_pred_tr_rf)\n",
    "rf_RMSE = np.sqrt(metrics.mean_squared_error(test_y,y_pred_tr_rf))\n",
    "ada_r2 = metrics.r2_score(test_y, y_pred_tr_ada)\n",
    "ada_RMSE = np.sqrt(metrics.mean_squared_error(test_y,y_pred_tr_ada))\n",
    "xg_r2 = metrics.r2_score(test_y, y_pred_tr_xg)\n",
    "xg_RMSE = np.sqrt(metrics.mean_squared_error(test_y,y_pred_tr_xg))\n",
    "\n"
   ]
  },
  {
   "cell_type": "code",
   "execution_count": 53,
   "metadata": {},
   "outputs": [],
   "source": [
    "scoring = {\n",
    "    'ML Model':['Decision Tree','Random Forest','ADA Boost','XG Boost'],\n",
    "    'R2 Score':[dt_r2,rf_r2,ada_r2,xg_r2],\n",
    "    'RMSE Score': [dt_RMSE,rf_RMSE,ada_RMSE,xg_RMSE]\n",
    "}\n",
    "a = pd.DataFrame(scoring)\n",
    "a.to_csv('ML_model_score.csv')"
   ]
  }
 ],
 "metadata": {
  "kernelspec": {
   "display_name": "base",
   "language": "python",
   "name": "python3"
  },
  "language_info": {
   "codemirror_mode": {
    "name": "ipython",
    "version": 3
   },
   "file_extension": ".py",
   "mimetype": "text/x-python",
   "name": "python",
   "nbconvert_exporter": "python",
   "pygments_lexer": "ipython3",
   "version": "3.11.5"
  }
 },
 "nbformat": 4,
 "nbformat_minor": 2
}
